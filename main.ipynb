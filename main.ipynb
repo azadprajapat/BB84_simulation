{
 "cells": [
  {
   "cell_type": "code",
   "execution_count": 2,
   "metadata": {},
   "outputs": [],
   "source": [
    "# importing Qiskit\n",
    "import numpy as np\n",
    "from numpy import pi\n",
    "from qiskit import QuantumCircuit, transpile\n",
    "from qiskit_aer import Aer\n",
    "from qiskit.visualization import plot_histogram, plot_bloch_multivector\n",
    "from qiskit_ibm_provider import IBMProvider"
   ]
  },
  {
   "cell_type": "code",
   "execution_count": null,
   "metadata": {},
   "outputs": [],
   "source": [
    "api_token='IBM TOKEN'\n",
    "\n",
    "IBMProvider.save_account(api_token, overwrite=True)\n",
    "provider = IBMProvider()\n",
    "print(\"Available backends:\", provider.backends())"
   ]
  },
  {
   "cell_type": "code",
   "execution_count": null,
   "metadata": {},
   "outputs": [],
   "source": [
    "def generateRandomState(n,delta):\n",
    "     nQubits = int((4 + delta)*n) \n",
    "     basis = np.random.randint(2, size=(nQubits,))\n",
    "     return basis"
   ]
  },
  {
   "cell_type": "code",
   "execution_count": 3,
   "metadata": {},
   "outputs": [],
   "source": [
    "class Alice:\n",
    "    def prepareState(n,delta):\n",
    "        alice_data_state=generateRandomState(n,delta)\n",
    "        alice_basis_state=generateRandomState(n,delta)\n",
    "        return (alice_data_state,alice_basis_state)    \n",
    "    "
   ]
  },
  {
   "cell_type": "code",
   "execution_count": null,
   "metadata": {},
   "outputs": [],
   "source": [
    "class Bob:\n",
    "    def getBasis(n,delta):\n",
    "        return generateRandomState(n,delta)\n",
    "\n",
    "class Eve:\n",
    "    def getBasis(n,delta):\n",
    "        return generateRandomState(n,delta)\n"
   ]
  },
  {
   "cell_type": "code",
   "execution_count": null,
   "metadata": {},
   "outputs": [],
   "source": [
    "def BB84Algorithm(key_length):\n",
    "    n = key_length\n",
    "    # error slack\n",
    "    delta = 0\n",
    "    # number of physical qubits\n",
    "    nQubits = int((4 + delta)*n)\n",
    "\n",
    "    bb_circuit= QuantumCircuit(nQubits,nQubits)\n",
    "    bb_circuit_eve= QuantumCircuit(nQubits,nQubits)\n",
    "\n",
    "    alice = Alice()\n",
    "    bob = Bob()\n",
    "    eve = Eve()\n",
    "    (alice_data_state,alice_basis_state) = alice.prepareState(n,delta)\n",
    "\n",
    "    for idx in range(nQubits):\n",
    "        if(alice_data_state[idx]==1):\n",
    "            bb_circuit.x(idx)\n",
    "            bb_circuit_eve.x(idx)\n",
    "\n",
    "    for idx in range(nQubits):\n",
    "        if(alice_basis_state[idx]==1):\n",
    "            bb_circuit.h(idx)\n",
    "            bb_circuit_eve.h(idx)\n",
    "\n",
    "    bob_basis_state = bob.getBasis(n,delta)\n",
    "\n",
    "    eve_basis_state = eve.getBasis(n,delta)\n",
    "\n",
    "    for idx in range(nQubits):\n",
    "        if(eve_basis_state[idx]==1):\n",
    "            bb_circuit_eve.h(idx)\n",
    "\n",
    "    for idx in range(nQubits):\n",
    "        if(bob_basis_state[idx]==1):\n",
    "            bb_circuit.h(idx)\n",
    "            bb_circuit_eve.h(idx)\n",
    "\n",
    "    for idx in range(nQubits):\n",
    "        bb_circuit.measure(idx,idx)\n",
    "        bb_circuit_eve.measure(idx,idx)\n",
    "    \n",
    "    return (bb_circuit,bb_circuit_eve,alice_data_state,alice_basis_state,bob_basis_state)"
   ]
  }
 ],
 "metadata": {
  "kernelspec": {
   "display_name": "Python 3",
   "language": "python",
   "name": "python3"
  },
  "language_info": {
   "codemirror_mode": {
    "name": "ipython",
    "version": 3
   },
   "file_extension": ".py",
   "mimetype": "text/x-python",
   "name": "python",
   "nbconvert_exporter": "python",
   "pygments_lexer": "ipython3",
   "version": "3.11.9"
  }
 },
 "nbformat": 4,
 "nbformat_minor": 2
}
